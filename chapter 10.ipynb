{
 "cells": [
  {
   "cell_type": "markdown",
   "id": "bf0d04bf",
   "metadata": {},
   "source": [
    "# chapter 10"
   ]
  },
  {
   "cell_type": "markdown",
   "id": "3f2f4aef",
   "metadata": {},
   "source": [
    "tuples"
   ]
  },
  {
   "cell_type": "code",
   "execution_count": 1,
   "id": "f53982fd",
   "metadata": {},
   "outputs": [
    {
     "name": "stdout",
     "output_type": "stream",
     "text": [
      "Name: Alice\n",
      "Age: 30\n",
      "City: New York\n"
     ]
    }
   ],
   "source": [
    "# Tuple packing\n",
    "person = (\"Alice\", 30, \"New York\")\n",
    "\n",
    "# Tuple unpacking\n",
    "name, age, city = person\n",
    "print(\"Name:\", name)\n",
    "print(\"Age:\", age)\n",
    "print(\"City:\", city)\n"
   ]
  },
  {
   "cell_type": "code",
   "execution_count": 2,
   "id": "fdde5af6",
   "metadata": {},
   "outputs": [
    {
     "name": "stdout",
     "output_type": "stream",
     "text": [
      "Name: Bob\n",
      "Age: 25\n",
      "City: Los Angeles\n"
     ]
    }
   ],
   "source": [
    "# A function that returns multiple values as a tuple\n",
    "def get_person_info():\n",
    "    name = \"Bob\"\n",
    "    age = 25\n",
    "    city = \"Los Angeles\"\n",
    "    return name, age, city\n",
    "\n",
    "# Calling the function and unpacking the returned tuple\n",
    "person_info = get_person_info()\n",
    "name, age, city = person_info\n",
    "print(\"Name:\", name)\n",
    "print(\"Age:\", age)\n",
    "print(\"City:\", city)\n"
   ]
  },
  {
   "cell_type": "code",
   "execution_count": 3,
   "id": "578ac494",
   "metadata": {},
   "outputs": [
    {
     "name": "stdout",
     "output_type": "stream",
     "text": [
      "Combined Tuple: (1, 2, 3, 4, 5, 6)\n"
     ]
    }
   ],
   "source": [
    "tuple1 = (1, 2, 3)\n",
    "tuple2 = (4, 5, 6)\n",
    "\n",
    "# Concatenating two tuples\n",
    "combined_tuple = tuple1 + tuple2\n",
    "print(\"Combined Tuple:\", combined_tuple)\n"
   ]
  },
  {
   "cell_type": "code",
   "execution_count": 4,
   "id": "8e5ab192",
   "metadata": {},
   "outputs": [
    {
     "name": "stdout",
     "output_type": "stream",
     "text": [
      "People and Their Ages:\n",
      "Alice: 30 years old\n",
      "Bob: 25 years old\n",
      "Charlie: 35 years old\n"
     ]
    }
   ],
   "source": [
    "names = (\"Alice\", \"Bob\", \"Charlie\")\n",
    "ages = (30, 25, 35)\n",
    "\n",
    "# Iterating over two tuples in parallel using zip\n",
    "print(\"People and Their Ages:\")\n",
    "for name, age in zip(names, ages):\n",
    "    print(f\"{name}: {age} years old\")\n"
   ]
  },
  {
   "cell_type": "code",
   "execution_count": 5,
   "id": "ba58e4e5",
   "metadata": {},
   "outputs": [
    {
     "name": "stdout",
     "output_type": "stream",
     "text": [
      "Error: 'tuple' object does not support item assignment\n"
     ]
    }
   ],
   "source": [
    "my_tuple = (1, 2, 3)\n",
    "\n",
    "# Attempting to modify a tuple (will raise an error)\n",
    "try:\n",
    "    my_tuple[0] = 4\n",
    "except TypeError as e:\n",
    "    print(\"Error:\", e)\n"
   ]
  },
  {
   "cell_type": "code",
   "execution_count": 6,
   "id": "ed65f259",
   "metadata": {},
   "outputs": [
    {
     "name": "stdout",
     "output_type": "stream",
     "text": [
      "Count: 5\n",
      "Total: 150\n",
      "Average: 30.0\n",
      "Maximum: 50\n",
      "Minimum: 10\n"
     ]
    }
   ],
   "source": [
    "def calculate_stats(numbers):\n",
    "    count = len(numbers)\n",
    "    total = sum(numbers)\n",
    "    average = total / count\n",
    "    maximum = max(numbers)\n",
    "    minimum = min(numbers)\n",
    "    return count, total, average, maximum, minimum\n",
    "\n",
    "data = [10, 20, 30, 40, 50]\n",
    "result = calculate_stats(data)\n",
    "\n",
    "# Unpacking the returned tuple\n",
    "count, total, average, maximum, minimum = result\n",
    "\n",
    "print(\"Count:\", count)\n",
    "print(\"Total:\", total)\n",
    "print(\"Average:\", average)\n",
    "print(\"Maximum:\", maximum)\n",
    "print(\"Minimum:\", minimum)\n"
   ]
  },
  {
   "cell_type": "code",
   "execution_count": 7,
   "id": "00571870",
   "metadata": {},
   "outputs": [
    {
     "name": "stdout",
     "output_type": "stream",
     "text": [
      "X Coordinate: 3\n",
      "Y Coordinate: 4\n"
     ]
    }
   ],
   "source": [
    "point = (3, 4)  # (x, y) coordinates\n",
    "\n",
    "# Accessing individual coordinates\n",
    "x, y = point\n",
    "print(\"X Coordinate:\", x)\n",
    "print(\"Y Coordinate:\", y)\n"
   ]
  },
  {
   "cell_type": "code",
   "execution_count": 8,
   "id": "4e87c483",
   "metadata": {},
   "outputs": [
    {
     "name": "stdout",
     "output_type": "stream",
     "text": [
      "Coordinates (40.7128, -74.006) correspond to New York City\n",
      "Coordinates (34.0522, -118.2437) correspond to Los Angeles\n",
      "Coordinates (51.5074, -0.1278) correspond to London\n"
     ]
    }
   ],
   "source": [
    "location_data = {\n",
    "    (40.7128, -74.0060): \"New York City\",\n",
    "    (34.0522, -118.2437): \"Los Angeles\",\n",
    "    (51.5074, -0.1278): \"London\"\n",
    "}\n",
    "\n",
    "for coordinates, city in location_data.items():\n",
    "    print(f\"Coordinates {coordinates} correspond to {city}\")\n"
   ]
  },
  {
   "cell_type": "code",
   "execution_count": 9,
   "id": "d9cb1a39",
   "metadata": {},
   "outputs": [
    {
     "name": "stdout",
     "output_type": "stream",
     "text": [
      "a = 10\n",
      "b = 5\n"
     ]
    }
   ],
   "source": [
    "a = 5\n",
    "b = 10\n",
    "\n",
    "# Swapping values using tuples\n",
    "a, b = b, a\n",
    "print(\"a =\", a)\n",
    "print(\"b =\", b)\n"
   ]
  },
  {
   "cell_type": "code",
   "execution_count": 10,
   "id": "42d0c9df",
   "metadata": {},
   "outputs": [
    {
     "name": "stdout",
     "output_type": "stream",
     "text": [
      "Name: Alice\n",
      "Age: 30\n"
     ]
    }
   ],
   "source": [
    "def get_name_and_age():\n",
    "    name = \"Alice\"\n",
    "    age = 30\n",
    "    return name, age\n",
    "\n",
    "person = get_name_and_age()\n",
    "print(\"Name:\", person[0])\n",
    "print(\"Age:\", person[1])\n"
   ]
  },
  {
   "cell_type": "code",
   "execution_count": null,
   "id": "6cc71c9f",
   "metadata": {},
   "outputs": [],
   "source": []
  }
 ],
 "metadata": {
  "kernelspec": {
   "display_name": "Python 3 (ipykernel)",
   "language": "python",
   "name": "python3"
  },
  "language_info": {
   "codemirror_mode": {
    "name": "ipython",
    "version": 3
   },
   "file_extension": ".py",
   "mimetype": "text/x-python",
   "name": "python",
   "nbconvert_exporter": "python",
   "pygments_lexer": "ipython3",
   "version": "3.11.4"
  }
 },
 "nbformat": 4,
 "nbformat_minor": 5
}
